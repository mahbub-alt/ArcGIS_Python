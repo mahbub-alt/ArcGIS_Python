{
 "cells": [
  {
   "cell_type": "markdown",
   "metadata": {},
   "source": [
    "# Dem2Watershed\n",
    "## Scripted Watershed Delineation using ArcGIS Hydrology Tools\n",
    "Author:       David Tarboton\n",
    "Created:      9/24/23 converted to Notebook from python code developed 2016-2021"
   ]
  },
  {
   "cell_type": "code",
   "execution_count": 1,
   "metadata": {},
   "outputs": [],
   "source": [
    "# ArcGIS Libraries\n",
    "import arcpy\n",
    "from arcpy import env\n",
    "from arcpy.sa import *"
   ]
  },
  {
   "cell_type": "markdown",
   "metadata": {},
   "source": [
    "**Set inputs in the cell below**"
   ]
  },
  {
   "cell_type": "code",
   "execution_count": 2,
   "metadata": {},
   "outputs": [],
   "source": [
    "# Set inputs\n",
    "# outDir=r\"C:\\Users\\dtarb\\Documents\\ArcGIS\\Projects\\MyWatershed\\LittleBear\"\n",
    "env.workspace = r\"D:\\GIS\\for PRO\\Watershed_Course_KU\\MyWatershed\\MyWatershed\\LittleBear\"\n",
    "DEM=\"littlebear.tif\"\n",
    "gage = \"Outlet.shp\"\n",
    "threshold = 10000\n",
    "snapdistance = 100"
   ]
  },
  {
   "cell_type": "markdown",
   "metadata": {},
   "source": [
    "Code below should not need to be changed for a different location"
   ]
  },
  {
   "cell_type": "code",
   "execution_count": 3,
   "metadata": {},
   "outputs": [],
   "source": [
    "# # Set workspace environment\n",
    "# env.workspace = outDir\n",
    "# env.scratchWorkspace = outDir\n",
    "env.overwriteOutput = True"
   ]
  },
  {
   "cell_type": "code",
   "execution_count": 4,
   "metadata": {},
   "outputs": [
    {
     "name": "stdout",
     "output_type": "stream",
     "text": [
      "DEM Filled\n",
      "Flow directions computed\n",
      "Flow accumulation computed\n",
      "Pour point snapped\n",
      "Watershed delineated\n",
      "Stream raster generated\n",
      "Stream links created\n",
      "Catchment grid created\n",
      "Vector conversions done\n"
     ]
    }
   ],
   "source": [
    "outFill = Fill(DEM, None)\n",
    "outFill.save(\"fel.tif\"); print(\"DEM Filled\")\n",
    "\n",
    "outFlowDirection = FlowDirection(\"fel.tif\", \"NORMAL\")\n",
    "outFlowDirection.save(\"fdr.tif\"); print(\"Flow directions computed\")\n",
    "\n",
    "outFlowAccumulation = FlowAccumulation(\"fdr.tif\")\n",
    "outFlowAccumulation.save(\"fac.tif\"); print(\"Flow accumulation computed\")\n",
    "\n",
    "outSnapPour = SnapPourPoint(gage, \"fac.tif\", snapdistance)\n",
    "outSnapPour.save(\"SnapOutlet.tif\"); print(\"Pour point snapped\")\n",
    "\n",
    "outWatershed = Watershed(\"fdr.tif\", \"SnapOutlet.tif\")\n",
    "outWatershed.save(\"demw.tif\"); print(\"Watershed delineated\")\n",
    "\n",
    "StreamRaster = (Raster(\"fac.tif\") >= threshold) & (Raster(\"demw.tif\") >= 0)\n",
    "StreamRaster.save(\"str.tif\"); print(\"Stream raster generated\")\n",
    "\n",
    "outStreamLink = StreamLink(\"str.tif\",\"fdr.tif\")\n",
    "outStreamLink.save(\"strlnk.tif\"); print(\"Stream links created\")\n",
    "\n",
    "Catchment = Watershed(\"fdr.tif\", \"strlnk.tif\")\n",
    "Catchment.save(\"CatchmentGrid.tif\"); print(\"Catchment grid created\")\n",
    "\n",
    "StreamToFeature(\"strlnk.tif\", \"fdr.tif\", \"DrainageLine\",\"NO_SIMPLIFY\")\n",
    "arcpy.RasterToPolygon_conversion(\"CatchmentGrid.tif\", \"Catchments\", \"NO_SIMPLIFY\",\"\",\"MULTIPLE_OUTER_PART\")\n",
    "print(\"Vector conversions done\")"
   ]
  },
  {
   "cell_type": "markdown",
   "metadata": {},
   "source": [
    "# For Onion Creek"
   ]
  },
  {
   "cell_type": "code",
   "execution_count": 43,
   "metadata": {},
   "outputs": [
    {
     "name": "stdout",
     "output_type": "stream",
     "text": [
      "DEM Filled\n",
      "Flow directions computed\n",
      "Flow accumulation computed\n",
      "Pour point snapped\n",
      "Watershed delineated\n",
      "Stream raster generated\n",
      "Stream links created\n",
      "Catchment grid created\n",
      "Vector conversions done\n"
     ]
    }
   ],
   "source": [
    "# Do the work\n",
    "outFill = Fill(DEM, None)\n",
    "outFill.save(\"fel.tif\"); print(\"DEM Filled\")\n",
    "\n",
    "outFlowDirection = FlowDirection(\"fel.tif\", \"NORMAL\")\n",
    "outFlowDirection.save(\"fdr.tif\"); print(\"Flow directions computed\")\n",
    "\n",
    "outFlowAccumulation = FlowAccumulation(\"fdr.tif\")\n",
    "outFlowAccumulation.save(\"fac.tif\"); print(\"Flow accumulation computed\")\n",
    "\n",
    "outSnapPour = SnapPourPoint(gage, \"fac.tif\", snapdistance)\n",
    "outSnapPour.save(\"SnapOutlet.tif\"); print(\"Pour point snapped\")\n",
    "\n",
    "outWatershed = Watershed(\"fdr.tif\", \"SnapOutlet.tif\")\n",
    "outWatershed.save(\"demw.tif\"); print(\"Watershed delineated\")\n",
    "\n",
    "StreamRaster = (Raster(\"fac.tif\") >= threshold) & (Raster(\"demw.tif\") >= 0)\n",
    "StreamRaster.save(\"str.tif\"); print(\"Stream raster generated\")\n",
    "\n",
    "outStreamLink = StreamLink(\"str.tif\",\"fdr.tif\")\n",
    "outStreamLink.save(\"strlnk.tif\"); print(\"Stream links created\")\n",
    "\n",
    "Catchment = Watershed(\"fdr.tif\", \"strlnk.tif\")\n",
    "Catchment.save(\"CatchmentGrid.tif\"); print(\"Catchment grid created\")\n",
    "\n",
    "StreamToFeature(\"strlnk.tif\", \"fdr.tif\", \"DrainageLine\",\"NO_SIMPLIFY\")\n",
    "arcpy.RasterToPolygon_conversion(\"CatchmentGrid.tif\", \"Catchments\", \"NO_SIMPLIFY\",\"\",\"MULTIPLE_OUTER_PART\")\n",
    "print(\"Vector conversions done\")\n",
    "\n"
   ]
  },
  {
   "cell_type": "code",
   "execution_count": 45,
   "metadata": {},
   "outputs": [
    {
     "name": "stdout",
     "output_type": "stream",
     "text": [
      "HAND Calculated\n"
     ]
    }
   ],
   "source": [
    "# out_flow_direction_raster = FlowDirection(\"fel.tif\", \"NORMAL\", \"drop\", \"DINF\"); \n",
    "# out_flow_direction_raster.save(\"FlowDir_dinf.tif\")\n",
    "\n",
    "# print(\"Flow direction Dinf calculated\")\n",
    "\n",
    "out_raster = arcpy.sa.FlowDistance(\"StreamRaster\", \"outFill\", \"FlowDir_dinf.tif\", \"VERTICAL\", \"DINF\", \"WEIGHTED_MEAN\");\n",
    "out_raster.save(\"Distance.tif\")\n",
    "print(\"HAND Calculated\")"
   ]
  },
  {
   "cell_type": "code",
   "execution_count": null,
   "metadata": {},
   "outputs": [],
   "source": []
  },
  {
   "cell_type": "code",
   "execution_count": null,
   "metadata": {},
   "outputs": [],
   "source": []
  },
  {
   "cell_type": "code",
   "execution_count": null,
   "metadata": {},
   "outputs": [],
   "source": []
  }
 ],
 "metadata": {
  "kernelspec": {
   "display_name": "ArcGISPro",
   "language": "Python",
   "name": "python3"
  },
  "language_info": {
   "file_extension": ".py",
   "name": "python",
   "version": "3"
  }
 },
 "nbformat": 4,
 "nbformat_minor": 2
}
