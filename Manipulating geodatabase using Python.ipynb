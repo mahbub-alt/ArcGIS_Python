{
 "cells": [
  {
   "cell_type": "code",
   "execution_count": 87,
   "metadata": {},
   "outputs": [],
   "source": [
    "import arcpy\n",
    "import os"
   ]
  },
  {
   "cell_type": "code",
   "execution_count": 26,
   "metadata": {},
   "outputs": [
    {
     "data": {
      "text/plain": [
       "'C:\\\\WINDOWS\\\\System32'"
      ]
     },
     "execution_count": 26,
     "metadata": {},
     "output_type": "execute_result"
    }
   ],
   "source": [
    "# pwd  #default your workspace is in your project\n",
    "\n",
    "# Get current directory path\n",
    "current_dir = os.getcwd()\n",
    "\n",
    "# List all files and folders in the current directory\n",
    "files_and_folders = os.listdir(current_dir)\n",
    "\n",
    "# print(files_and_folders)\n",
    "\n",
    "current_dir"
   ]
  },
  {
   "cell_type": "code",
   "execution_count": 10,
   "metadata": {},
   "outputs": [],
   "source": [
    "# arcpy.management.CopyFeatures(\"AffectedAreaApp\", r\"D:\\GIS\\for PRO\\Arcgis_Python_training\\Python_Arcgis\\Python_Arcgis.gdb\\AffectedAreaApp_CopyFeatures\",\n",
    "#                               '', None, None, None)\n"
   ]
  },
  {
   "cell_type": "markdown",
   "metadata": {},
   "source": [
    "## see all data inside a geodatabase"
   ]
  },
  {
   "cell_type": "code",
   "execution_count": 27,
   "metadata": {},
   "outputs": [
    {
     "data": {
      "text/plain": [
       "['ParcelPts', 'ParcelPoly', 'ServiceAreas']"
      ]
     },
     "execution_count": 27,
     "metadata": {},
     "output_type": "execute_result"
    }
   ],
   "source": [
    "arcpy.env.workspace = r\"D:\\GIS\\for PRO\\Arcgis_Python_training\\Python Scripting with ArcGIS Pro 2208\\PYTS_8.0_Aug22_StudentData\\PYTS\\Data\\CountyData.gdb\"\n",
    "fclasses = arcpy.ListFeatureClasses()\n",
    "fclasses"
   ]
  },
  {
   "cell_type": "markdown",
   "metadata": {},
   "source": [
    "## It's a nice way to check if any layers have missing,  GCS possibly use a if else statement to see them separately"
   ]
  },
  {
   "cell_type": "code",
   "execution_count": 28,
   "metadata": {},
   "outputs": [
    {
     "name": "stdout",
     "output_type": "stream",
     "text": [
      "Feature Class: ParcelPts, Type: Point, Spatial Reference: NAD_1983_CORS96_StatePlane_North_Carolina_FIPS_3200_Ft_US\n",
      "Feature Class: ParcelPoly, Type: Polygon, Spatial Reference: NAD_1983_CORS96_StatePlane_North_Carolina_FIPS_3200_Ft_US\n",
      "Feature Class: ServiceAreas, Type: Polygon, Spatial Reference: NAD_1983_CORS96_StatePlane_North_Carolina_FIPS_3200_Ft_US\n"
     ]
    }
   ],
   "source": [
    "for fc in fclasses:\n",
    "    desc = arcpy.Describe(fc)\n",
    "    spatial_ref = desc.spatialReference.name  # Get the spatial reference name\n",
    "    print(f\"Feature Class: {fc}, Type: {desc.shapeType}, Spatial Reference: {spatial_ref}\")"
   ]
  },
  {
   "cell_type": "markdown",
   "metadata": {},
   "source": [
    "## see all geodatabases in a parent directory and data inside them\n"
   ]
  },
  {
   "cell_type": "code",
   "execution_count": 31,
   "metadata": {},
   "outputs": [
    {
     "name": "stdout",
     "output_type": "stream",
     "text": [
      "['ParcelPts', 'ParcelPoly', 'ServiceAreas']\n",
      "['AllOutages']\n",
      "GDB: CountyData.gdb\n",
      " Feature Class: ParcelPts\n",
      "GDB: CountyData.gdb\n",
      " Feature Class: ParcelPoly\n",
      "GDB: CountyData.gdb\n",
      " Feature Class: ServiceAreas\n",
      "GDB: Outages.gdb\n",
      " Feature Class: AllOutages\n"
     ]
    }
   ],
   "source": [
    "\n",
    "\n",
    "# Set the parent directory containing multiple geodatabases\n",
    "parent_folder = r\"D:\\GIS\\for PRO\\Arcgis_Python_training\\Python Scripting with ArcGIS Pro 2208\\PYTS_8.0_Aug22_StudentData\\PYTS\\Data\"\n",
    "\n",
    "# List to store feature classes from all geodatabases\n",
    "all_feature_classes = []\n",
    "\n",
    "# Walk through the directory to find all geodatabases\n",
    "for root, dirs, files in os.walk(parent_folder):\n",
    "    for directory in dirs:\n",
    "        if directory.endswith(\".gdb\"):\n",
    "            gdb_path = os.path.join(root, directory)\n",
    "            arcpy.env.workspace = gdb_path\n",
    "            \n",
    "            # List all feature classes in the current geodatabase\n",
    "            fclasses = arcpy.ListFeatureClasses()\n",
    "            print(fclasses)\n",
    "            if fclasses:\n",
    "                all_feature_classes.extend([(directory, fc) for fc in fclasses])\n",
    "\n",
    "# Print the collected feature classes\n",
    "for gdb, feature_class in all_feature_classes:\n",
    "    print(f\"GDB: {gdb}\\n Feature Class: {feature_class}\")\n"
   ]
  },
  {
   "cell_type": "code",
   "execution_count": 11,
   "metadata": {},
   "outputs": [
    {
     "data": {
      "text/plain": [
       "['ParcelPts']"
      ]
     },
     "execution_count": 11,
     "metadata": {},
     "output_type": "execute_result"
    }
   ],
   "source": [
    " arcpy.ListFeatureClasses(\"\", \"Point\")"
   ]
  },
  {
   "cell_type": "code",
   "execution_count": 14,
   "metadata": {},
   "outputs": [
    {
     "data": {
      "text/plain": [
       "'OBJECTID'"
      ]
     },
     "execution_count": 14,
     "metadata": {},
     "output_type": "execute_result"
    }
   ],
   "source": [
    "arcpy.ListFields(\"ParcelPts\")[0].name"
   ]
  },
  {
   "cell_type": "code",
   "execution_count": 15,
   "metadata": {},
   "outputs": [
    {
     "name": "stdout",
     "output_type": "stream",
     "text": [
      "OBJECTID\n",
      "Shape\n",
      "Parcel_ID\n",
      "Street_Number\n",
      "Street_Name\n",
      "City\n",
      "State\n",
      "Zip\n",
      "Owner_Name\n",
      "Phone_Number\n",
      "SquFoot\n",
      "TaxValue\n",
      "PriceSquFt\n"
     ]
    }
   ],
   "source": [
    "for fields in arcpy.ListFields(\"ParcelPts\"):\n",
    "    print(fields.name)"
   ]
  },
  {
   "cell_type": "markdown",
   "metadata": {},
   "source": [
    "## Iterating over all the point feature class and exporting them in the designated gdb"
   ]
  },
  {
   "cell_type": "code",
   "execution_count": 29,
   "metadata": {},
   "outputs": [],
   "source": [
    "outWorkspace = r\"D:\\GIS\\for PRO\\Arcgis_Python_training\\Python_Arcgis\\Python_Arcgis.gdb\"\n",
    "fclist =arcpy.ListFeatureClasses(\"\", \"Point\")\n",
    "for fc in fclist:\n",
    "    outputfc = f\"{outWorkspace}\\\\{fc}\"\n",
    "    arcpy.CopyFeatures_management (fc, outputfc) #(input feature, output feature)\n",
    "    "
   ]
  },
  {
   "cell_type": "markdown",
   "metadata": {},
   "source": [
    "## Now iterate over all feature classes in a parent folder and export them in a new gdb"
   ]
  },
  {
   "cell_type": "code",
   "execution_count": 35,
   "metadata": {},
   "outputs": [
    {
     "name": "stdout",
     "output_type": "stream",
     "text": [
      "Copied ParcelPts from D:\\GIS\\for PRO\\Arcgis_Python_training\\Python Scripting with ArcGIS Pro 2208\\PYTS_8.0_Aug22_StudentData\\PYTS\\Data\\CountyData.gdb to D:\\GIS\\for PRO\\Arcgis_Python_training\\Python_Arcgis\\Python_Arcgis.gdb\\ParcelPts\n",
      "Copied ParcelPoly from D:\\GIS\\for PRO\\Arcgis_Python_training\\Python Scripting with ArcGIS Pro 2208\\PYTS_8.0_Aug22_StudentData\\PYTS\\Data\\CountyData.gdb to D:\\GIS\\for PRO\\Arcgis_Python_training\\Python_Arcgis\\Python_Arcgis.gdb\\ParcelPoly\n",
      "Copied ServiceAreas from D:\\GIS\\for PRO\\Arcgis_Python_training\\Python Scripting with ArcGIS Pro 2208\\PYTS_8.0_Aug22_StudentData\\PYTS\\Data\\CountyData.gdb to D:\\GIS\\for PRO\\Arcgis_Python_training\\Python_Arcgis\\Python_Arcgis.gdb\\ServiceAreas\n",
      "Copied AllOutages from D:\\GIS\\for PRO\\Arcgis_Python_training\\Python Scripting with ArcGIS Pro 2208\\PYTS_8.0_Aug22_StudentData\\PYTS\\Data\\Outages.gdb to D:\\GIS\\for PRO\\Arcgis_Python_training\\Python_Arcgis\\Python_Arcgis.gdb\\AllOutages\n",
      "Copy operation completed.\n"
     ]
    }
   ],
   "source": [
    "import arcpy\n",
    "import os\n",
    "\n",
    "# Define parent folder containing geodatabases and the target output geodatabase\n",
    "parent_folder = r\"D:\\GIS\\for PRO\\Arcgis_Python_training\\Python Scripting with ArcGIS Pro 2208\\PYTS_8.0_Aug22_StudentData\\PYTS\\Data\"\n",
    "out_workspace = r\"D:\\GIS\\for PRO\\Arcgis_Python_training\\Python_Arcgis\\Python_Arcgis.gdb\"\n",
    "\n",
    "# Loop through all geodatabases in the parent folder\n",
    "for root, dirs, files in os.walk(parent_folder):\n",
    "    for directory in dirs:\n",
    "        if directory.endswith(\".gdb\"):\n",
    "            gdb_path = os.path.join(root, directory)\n",
    "            arcpy.env.workspace = gdb_path\n",
    "            \n",
    "            # List all point feature classes in the current geodatabase\n",
    "            fclist = arcpy.ListFeatureClasses()\n",
    "            \n",
    "            if fclist:\n",
    "                for fc in fclist:\n",
    "                    # Define the output feature class path\n",
    "                    output_fc = f\"{out_workspace}\\\\{fc}\"\n",
    "                    \n",
    "                    # Copy the feature class to the target geodatabase\n",
    "                    arcpy.CopyFeatures_management(fc, output_fc)\n",
    "                    print(f\"Copied {fc} from {gdb_path} to {output_fc}\")\n",
    "\n",
    "print(\"Copy operation completed.\")\n",
    "\n"
   ]
  },
  {
   "cell_type": "markdown",
   "metadata": {},
   "source": [
    "## Cursor Search to get values inside a column or to get rows\n",
    "\n",
    "- when working with ArcGIS Python cursors (like SearchCursor and UpdateCursor) to access data in a database, you should always use a \"with\" statement to manage the cursor, which automatically resets the iteration and helps release database locks when the loop finishes; \n",
    "- additionally, to ensure the cursor is fully released and prevent potential locking issues, explicitly delete the cursor object using the \"`del`\" keyword or wrap the cursor creation within a function to automatically manage its scope"
   ]
  },
  {
   "cell_type": "code",
   "execution_count": 32,
   "metadata": {},
   "outputs": [
    {
     "data": {
      "text/plain": [
       "'ParcelPts'"
      ]
     },
     "execution_count": 32,
     "metadata": {},
     "output_type": "execute_result"
    }
   ],
   "source": [
    "arcpy.env.workspace = r\"D:\\GIS\\for PRO\\Arcgis_Python_training\\Python_Arcgis\\Python_Arcgis.gdb\"\n",
    "# instead of working with original geodatabase now i am working with copied data\n",
    "# arcpy.env.workspace =r\"D:\\GIS\\for PRO\\Arcgis_Python_training\\Python Scripting with ArcGIS Pro 2208\\PYTS_8.0_Aug22_StudentData\\PYTS\\Data\\CountyData.gdb\"\n",
    " \n",
    "feature1 = arcpy.ListFeatureClasses ()[3]\n",
    "feature1"
   ]
  },
  {
   "cell_type": "code",
   "execution_count": 33,
   "metadata": {},
   "outputs": [],
   "source": [
    "uFields = [\"SquFoot\", \"TaxValue\", \"PriceSquFt\"] \n",
    "with arcpy.da.UpdateCursor('ParcelPts', uFields) as uCursor:\n",
    "    for row in uCursor:\n",
    "        row[2] = row[1] / row[0]\n",
    "        uCursor.updateRow(row)                           # here we have 3 columns (Ufields) within the ucursor\n",
    "del uCursor                                              # row[0] is SqFoot column and accessing all rows for that \n",
    "                                                        # column, row[2] is actually an empty field created to fill this way."
   ]
  },
  {
   "cell_type": "code",
   "execution_count": 34,
   "metadata": {},
   "outputs": [
    {
     "name": "stdout",
     "output_type": "stream",
     "text": [
      "Keneth Syers 172056.0\n",
      "Laurette Albritton 188640.0\n",
      "Alease Howk 264616.0\n",
      "Erika Beaven 338470.0\n",
      "Lowell Pilkins 273136.0\n",
      "Magali Yelle 292236.0\n",
      "Shanita Jeng 180937.0\n",
      "Meta Cheas 245708.0\n",
      "Caprice Gabrysch 196226.0\n",
      "Shemeka Kinas 289575.0\n"
     ]
    }
   ],
   "source": [
    "\n",
    "# Define SQL query for selection\n",
    "sql_cmnd = \"TaxValue BETWEEN 172056.0 AND 338470.0\"\n",
    "\n",
    "# Use a SearchCursor to access data and limit the output to 10 records\n",
    "with arcpy.da.SearchCursor('ParcelPts', [\"Owner_Name\", \"TaxValue\"], sql_cmnd) as cursor:\n",
    "    for i, row in enumerate(cursor):\n",
    "        print(row[0], row[1])\n",
    "        if i == 9:  # Stop after 10 records\n",
    "            break\n",
    "del cursor"
   ]
  },
  {
   "cell_type": "markdown",
   "metadata": {},
   "source": [
    "## deleting those rows,for demonstration purpose I am just deleting 10 rows"
   ]
  },
  {
   "cell_type": "code",
   "execution_count": 130,
   "metadata": {},
   "outputs": [],
   "source": [
    "##copying this fc in anoter location is a good idea before deleting"
   ]
  },
  {
   "cell_type": "code",
   "execution_count": 35,
   "metadata": {},
   "outputs": [
    {
     "name": "stdout",
     "output_type": "stream",
     "text": [
      "10 rows deleted.\n"
     ]
    }
   ],
   "source": [
    "with arcpy.da.UpdateCursor('ParcelPts', [\"Owner_Name\", \"TaxValue\"], sql_cmnd) as cursor:\n",
    "    count = 0\n",
    "    for row in cursor:\n",
    "        cursor.deleteRow()  # Delete the current row\n",
    "        count += 1\n",
    "        if count == 10:  # Stop after deleting 10 rows\n",
    "            break\n",
    "del cursor\n",
    "\n",
    "print(f\"{count} rows deleted.\")"
   ]
  },
  {
   "cell_type": "code",
   "execution_count": 129,
   "metadata": {},
   "outputs": [
    {
     "name": "stdout",
     "output_type": "stream",
     "text": [
      "All matching rows deleted successfully.\n"
     ]
    }
   ],
   "source": [
    "\n",
    "\n",
    "# Set workspace and path to the feature class\n",
    "arcpy.env.workspace = r\"D:\\GIS\\for PRO\\Arcgis_Python_training\\Python Scripting with ArcGIS Pro 2208\\PYTS_8.0_Aug22_StudentData\\PYTS\\Data\\CountyData.gdb\"\n",
    "feature_class = 'ParcelPts'\n",
    "\n",
    "# Define SQL query for selection\n",
    "sql_cmnd = \"TaxValue BETWEEN 28356 AND 338470.0\"\n",
    "\n",
    "# Create an Editor object to ensure proper transaction handling, it only deletes if all records are deleted,\n",
    "# no partial delete\n",
    "\n",
    "workspace_path = arcpy.env.workspace\n",
    "with arcpy.da.Editor(workspace_path) as editor:  # Automatically starts an edit session\n",
    "    try:\n",
    "        with arcpy.da.UpdateCursor(feature_class, [\"Owner_Name\", \"TaxValue\"], sql_cmnd) as cursor:\n",
    "            for row in cursor:\n",
    "                cursor.deleteRow()\n",
    "        \n",
    "        print(\"All matching rows deleted successfully.\")\n",
    "    except Exception as e:\n",
    "        print(f\"Error during row deletion: {e}\")\n",
    "\n"
   ]
  },
  {
   "cell_type": "markdown",
   "metadata": {},
   "source": [
    "## let's convert our featureclass into a df\n",
    "\n"
   ]
  },
  {
   "cell_type": "code",
   "execution_count": 88,
   "metadata": {},
   "outputs": [
    {
     "data": {
      "text/html": [
       "<div>\n",
       "<style scoped>\n",
       "    .dataframe tbody tr th:only-of-type {\n",
       "        vertical-align: middle;\n",
       "    }\n",
       "\n",
       "    .dataframe tbody tr th {\n",
       "        vertical-align: top;\n",
       "    }\n",
       "\n",
       "    .dataframe thead th {\n",
       "        text-align: right;\n",
       "    }\n",
       "</style>\n",
       "<table border=\"1\" class=\"dataframe\">\n",
       "  <thead>\n",
       "    <tr style=\"text-align: right;\">\n",
       "      <th></th>\n",
       "      <th>OBJECTID</th>\n",
       "      <th>Parcel_ID</th>\n",
       "      <th>Street_Number</th>\n",
       "      <th>Street_Name</th>\n",
       "      <th>City</th>\n",
       "      <th>State</th>\n",
       "      <th>Zip</th>\n",
       "      <th>Owner_Name</th>\n",
       "      <th>Phone_Number</th>\n",
       "      <th>SquFoot</th>\n",
       "      <th>TaxValue</th>\n",
       "      <th>PriceSquFt</th>\n",
       "      <th>SHAPE</th>\n",
       "    </tr>\n",
       "  </thead>\n",
       "  <tbody>\n",
       "    <tr>\n",
       "      <th>0</th>\n",
       "      <td>10</td>\n",
       "      <td>17999752</td>\n",
       "      <td>3516</td>\n",
       "      <td>Laura Ray Road</td>\n",
       "      <td>Linden</td>\n",
       "      <td>NC</td>\n",
       "      <td>28356</td>\n",
       "      <td>Jonnie Kirkness</td>\n",
       "      <td>990-585-8885</td>\n",
       "      <td>2118.0</td>\n",
       "      <td>171558.0</td>\n",
       "      <td>81.0</td>\n",
       "      <td>{\"x\": 2058555.1953131407, \"y\": 537545.38245105...</td>\n",
       "    </tr>\n",
       "    <tr>\n",
       "      <th>1</th>\n",
       "      <td>11</td>\n",
       "      <td>17999753</td>\n",
       "      <td>7597</td>\n",
       "      <td>Big Bay Road</td>\n",
       "      <td>Linden</td>\n",
       "      <td>NC</td>\n",
       "      <td>28356</td>\n",
       "      <td>Sherilyn Fuente</td>\n",
       "      <td>990-447-9005</td>\n",
       "      <td>1254.0</td>\n",
       "      <td>106590.0</td>\n",
       "      <td>85.0</td>\n",
       "      <td>{\"x\": 2058719.3193287253, \"y\": 537758.88103981...</td>\n",
       "    </tr>\n",
       "    <tr>\n",
       "      <th>2</th>\n",
       "      <td>13</td>\n",
       "      <td>17999759</td>\n",
       "      <td>6109</td>\n",
       "      <td>Giles Road</td>\n",
       "      <td>Linden</td>\n",
       "      <td>NC</td>\n",
       "      <td>28356</td>\n",
       "      <td>Phuong Marcelin</td>\n",
       "      <td>990-215-6570</td>\n",
       "      <td>3377.0</td>\n",
       "      <td>327569.0</td>\n",
       "      <td>97.0</td>\n",
       "      <td>{\"x\": 2058268.4304667264, \"y\": 538604.09686906...</td>\n",
       "    </tr>\n",
       "    <tr>\n",
       "      <th>3</th>\n",
       "      <td>14</td>\n",
       "      <td>17999760</td>\n",
       "      <td>7819</td>\n",
       "      <td>Carlos Road</td>\n",
       "      <td>Linden</td>\n",
       "      <td>NC</td>\n",
       "      <td>28356</td>\n",
       "      <td>Tracee Corbisiero</td>\n",
       "      <td>990-915-9679</td>\n",
       "      <td>1845.0</td>\n",
       "      <td>190035.0</td>\n",
       "      <td>103.0</td>\n",
       "      <td>{\"x\": 2058492.283693552, \"y\": 538065.196700140...</td>\n",
       "    </tr>\n",
       "    <tr>\n",
       "      <th>4</th>\n",
       "      <td>15</td>\n",
       "      <td>17999761</td>\n",
       "      <td>4011</td>\n",
       "      <td>Herrill Baggett Road</td>\n",
       "      <td>Linden</td>\n",
       "      <td>NC</td>\n",
       "      <td>28356</td>\n",
       "      <td>Sherilyn Scafuto</td>\n",
       "      <td>990-614-7432</td>\n",
       "      <td>2720.0</td>\n",
       "      <td>293760.0</td>\n",
       "      <td>108.0</td>\n",
       "      <td>{\"x\": 2058455.6272708029, \"y\": 538188.43333031...</td>\n",
       "    </tr>\n",
       "  </tbody>\n",
       "</table>\n",
       "</div>"
      ],
      "text/plain": [
       "   OBJECTID  ...                                              SHAPE\n",
       "0        10  ...  {\"x\": 2058555.1953131407, \"y\": 537545.38245105...\n",
       "1        11  ...  {\"x\": 2058719.3193287253, \"y\": 537758.88103981...\n",
       "2        13  ...  {\"x\": 2058268.4304667264, \"y\": 538604.09686906...\n",
       "3        14  ...  {\"x\": 2058492.283693552, \"y\": 538065.196700140...\n",
       "4        15  ...  {\"x\": 2058455.6272708029, \"y\": 538188.43333031...\n",
       "\n",
       "[5 rows x 13 columns]"
      ]
     },
     "execution_count": 88,
     "metadata": {},
     "output_type": "execute_result"
    }
   ],
   "source": [
    "import pandas as pd\n",
    "# import seaborn as sns\n",
    "from arcgis.gis import GIS\n",
    "\n",
    "df = pd.DataFrame.spatial.from_featureclass(feature1)\n",
    "df.head()\n",
    "\n"
   ]
  },
  {
   "cell_type": "code",
   "execution_count": 89,
   "metadata": {},
   "outputs": [
    {
     "data": {
      "text/plain": [
       "OBJECTID         0\n",
       "Parcel_ID        0\n",
       "Street_Number    0\n",
       "Street_Name      0\n",
       "City             0\n",
       "State            0\n",
       "Zip              0\n",
       "Owner_Name       0\n",
       "Phone_Number     0\n",
       "SquFoot          0\n",
       "TaxValue         0\n",
       "PriceSquFt       0\n",
       "SHAPE            0\n",
       "dtype: int64"
      ]
     },
     "execution_count": 89,
     "metadata": {},
     "output_type": "execute_result"
    }
   ],
   "source": [
    "\n",
    "df.isna().sum()"
   ]
  },
  {
   "cell_type": "code",
   "execution_count": 90,
   "metadata": {},
   "outputs": [
    {
     "data": {
      "text/html": [
       "<div>\n",
       "<style scoped>\n",
       "    .dataframe tbody tr th:only-of-type {\n",
       "        vertical-align: middle;\n",
       "    }\n",
       "\n",
       "    .dataframe tbody tr th {\n",
       "        vertical-align: top;\n",
       "    }\n",
       "\n",
       "    .dataframe thead th {\n",
       "        text-align: right;\n",
       "    }\n",
       "</style>\n",
       "<table border=\"1\" class=\"dataframe\">\n",
       "  <thead>\n",
       "    <tr style=\"text-align: right;\">\n",
       "      <th></th>\n",
       "      <th>OBJECTID</th>\n",
       "      <th>Parcel_ID</th>\n",
       "      <th>Street_Number</th>\n",
       "      <th>Street_Name</th>\n",
       "      <th>City</th>\n",
       "      <th>State</th>\n",
       "      <th>Zip</th>\n",
       "      <th>Owner_Name</th>\n",
       "      <th>Phone_Number</th>\n",
       "      <th>SquFoot</th>\n",
       "      <th>TaxValue</th>\n",
       "      <th>PriceSquFt</th>\n",
       "      <th>SHAPE</th>\n",
       "    </tr>\n",
       "  </thead>\n",
       "  <tbody>\n",
       "  </tbody>\n",
       "</table>\n",
       "</div>"
      ],
      "text/plain": [
       "Empty DataFrame\n",
       "Columns: [OBJECTID, Parcel_ID, Street_Number, Street_Name, City, State, Zip, Owner_Name, Phone_Number, SquFoot, TaxValue, PriceSquFt, SHAPE]\n",
       "Index: []"
      ]
     },
     "execution_count": 90,
     "metadata": {},
     "output_type": "execute_result"
    }
   ],
   "source": [
    "uplicates = df[df.duplicated(subset=[\"Owner_Name\"], keep=False)] \n",
    "uplicates"
   ]
  },
  {
   "cell_type": "code",
   "execution_count": 92,
   "metadata": {},
   "outputs": [
    {
     "name": "stderr",
     "output_type": "stream",
     "text": [
      "Profile agol_profile does not have a password on file through keyring. If you are expecting this behavior (PKI or IWA authentication, entering password through run-time prompt, etc.), please ignore this message. If you would like to store your password in the agol_profile profile, run GIS(profile = 'agol_profile', password = ...). See the API doc for more details. (http://bit.ly/2CK2wG8)\n"
     ]
    },
    {
     "data": {
      "application/vnd.jupyter.widget-view+json": {
       "model_id": "344cf97a7b2f4e3b8f94e9c89929a5c8",
       "version_major": 2,
       "version_minor": 0
      },
      "text/plain": [
       "MapView(layout=Layout(height='400px', width='100%'))"
      ]
     },
     "metadata": {},
     "output_type": "display_data"
    },
    {
     "data": {
      "text/html": [
       "<div class=\"map-static-img-preview-e39e4012-dca7-47c9-ac6f-2b50596b9887\"><img src=\"\"></img></div>"
      ],
      "text/plain": [
       "<display.HTML object>"
      ]
     },
     "metadata": {},
     "output_type": "display_data"
    },
    {
     "data": {
      "text/html": [
       "<div class=\"map-html-embed-preview-e39e4012-dca7-47c9-ac6f-2b50596b9887\"></div>"
      ],
      "text/plain": [
       "<display.HTML object>"
      ]
     },
     "metadata": {},
     "output_type": "display_data"
    }
   ],
   "source": [
    "# you have to import arcgis before this\n",
    "gis = GIS (profile =\"agol_profile\", verify_cert = False)\n",
    "df.spatial.plot()"
   ]
  },
  {
   "cell_type": "code",
   "execution_count": 93,
   "metadata": {},
   "outputs": [
    {
     "data": {
      "application/vnd.jupyter.widget-view+json": {
       "model_id": "f28008a24d6c457fab09605591ac4256",
       "version_major": 2,
       "version_minor": 0
      },
      "text/plain": [
       "MapView(layout=Layout(height='400px', width='100%'))"
      ]
     },
     "metadata": {},
     "output_type": "display_data"
    },
    {
     "data": {
      "text/html": [
       "<div class=\"map-static-img-preview-fe55f759-00e8-418e-bdc6-6a6ae40a6520\"><img src=\"\"></img></div>"
      ],
      "text/plain": [
       "<display.HTML object>"
      ]
     },
     "metadata": {},
     "output_type": "display_data"
    },
    {
     "data": {
      "text/html": [
       "<div class=\"map-html-embed-preview-fe55f759-00e8-418e-bdc6-6a6ae40a6520\"></div>"
      ],
      "text/plain": [
       "<display.HTML object>"
      ]
     },
     "metadata": {},
     "output_type": "display_data"
    }
   ],
   "source": [
    "m = gis.map(\"United States\")\n",
    "m.zoom = 3\n",
    "m"
   ]
  },
  {
   "cell_type": "code",
   "execution_count": 94,
   "metadata": {},
   "outputs": [
    {
     "data": {
      "application/vnd.jupyter.widget-view+json": {
       "model_id": "c983fcd6ad21478e996e3d169714e5bc",
       "version_major": 2,
       "version_minor": 0
      },
      "text/plain": [
       "MapView(layout=Layout(height='400px', width='100%'))"
      ]
     },
     "metadata": {},
     "output_type": "display_data"
    },
    {
     "data": {
      "text/html": [
       "<div class=\"map-static-img-preview-abe0b051-1254-47ee-a4b6-258ee993d334\"><img src=\"\"></img></div>"
      ],
      "text/plain": [
       "<display.HTML object>"
      ]
     },
     "metadata": {},
     "output_type": "display_data"
    },
    {
     "data": {
      "text/html": [
       "<div class=\"map-html-embed-preview-abe0b051-1254-47ee-a4b6-258ee993d334\"></div>"
      ],
      "text/plain": [
       "<display.HTML object>"
      ]
     },
     "metadata": {},
     "output_type": "display_data"
    }
   ],
   "source": [
    "df.spatial.plot( renderer_type =\"u\",\n",
    "               col =\"TaxValue\")"
   ]
  },
  {
   "cell_type": "code",
   "execution_count": 95,
   "metadata": {},
   "outputs": [
    {
     "data": {
      "application/vnd.jupyter.widget-view+json": {
       "model_id": "d36250d276e74854a8f1cc8f6d39b225",
       "version_major": 2,
       "version_minor": 0
      },
      "text/plain": [
       "MapView(layout=Layout(height='400px', width='100%'), legend=True)"
      ]
     },
     "metadata": {},
     "output_type": "display_data"
    },
    {
     "data": {
      "text/html": [
       "<div class=\"map-static-img-preview-027fdd39-e1df-4b0e-b596-77b38468dce0\"><img src=\"\"></img></div>"
      ],
      "text/plain": [
       "<display.HTML object>"
      ]
     },
     "metadata": {},
     "output_type": "display_data"
    },
    {
     "data": {
      "text/html": [
       "<div class=\"map-html-embed-preview-027fdd39-e1df-4b0e-b596-77b38468dce0\"></div>"
      ],
      "text/plain": [
       "<display.HTML object>"
      ]
     },
     "metadata": {},
     "output_type": "display_data"
    }
   ],
   "source": [
    "m2 = gis.map(\"United States\")\n",
    "# m2.center =  [39, -98]\n",
    "# m2.zoom = 3\n",
    "m2.legend =True\n",
    "m2"
   ]
  },
  {
   "cell_type": "code",
   "execution_count": 96,
   "metadata": {},
   "outputs": [
    {
     "data": {
      "text/plain": [
       "True"
      ]
     },
     "execution_count": 96,
     "metadata": {},
     "output_type": "execute_result"
    }
   ],
   "source": [
    "df.spatial.plot(map_widget =m2,\n",
    "                renderer_type =\"c\", #classbreak renderer\n",
    "                method = \"esriClassifyNaturalBreaks\",\n",
    "                class_count = 5,\n",
    "                alpha =.8, #specify opacity\n",
    "               col =\"TaxValue\")\n"
   ]
  },
  {
   "cell_type": "markdown",
   "metadata": {},
   "source": [
    "now u can manipulate this df the way u want after that u can either upload \n",
    "it in arcgis online as a feature layer.\n",
    "or u can  run the copyfeatures tool/directly to put it\n",
    "back to a local gdb as a new fc."
   ]
  },
  {
   "cell_type": "markdown",
   "metadata": {},
   "source": [
    "## To download features from a folder in ArcGIS Online\n"
   ]
  },
  {
   "cell_type": "code",
   "execution_count": null,
   "metadata": {},
   "outputs": [],
   "source": [
    "from arcgis.gis import GIS\n",
    "from arcgis.features import FeatureLayerCollection\n",
    "\n",
    "# Connect to ArcGIS Online\n",
    "gis = GIS(\"https://www.arcgis.com\", \"your_username\", \"your_password\")\n",
    "\n",
    "# Specify your ArcGIS Online folder name\n",
    "folder_name = \"MyFolder\"\n",
    "target_gdb = r\"D:\\GIS\\for PRO\\Arcgis_Python_training\\Python_Arcgis\\Python_Arcgis.gdb\"\n",
    "\n",
    "# Search for feature layers in the folder\n",
    "user = gis.users.me\n",
    "items = user.items(folder=folder_name, item_type=\"Feature Layer\")\n",
    "\n",
    "print(f\"Found {len(items)} feature layers in the folder '{folder_name}'.\")\n",
    "\n",
    "# Download and copy features to the local geodatabase\n",
    "for item in items:\n",
    "    print(f\"Processing {item.title}...\")\n",
    "    feature_layer_collection = FeatureLayerCollection.fromitem(item)\n",
    "\n",
    "    # Export each layer to a geodatabase-compatible format\n",
    "    feature_layers = feature_layer_collection.layers\n",
    "    for layer in feature_layers:\n",
    "        layer_name = layer.properties.name.replace(\" \", \"_\")\n",
    "        output_fc = f\"{target_gdb}\\\\{layer_name}\"\n",
    "\n",
    "        # Convert the feature set to a spatial DataFrame and save it locally\n",
    "        sdf = layer.query().sdf\n",
    "        if not sdf.empty:\n",
    "            sdf.spatial.to_featureclass(location=output_fc)\n",
    "            print(f\"Copied {layer_name} to {output_fc}\")\n",
    "        else:\n",
    "            print(f\"No features found in {layer_name}.\")\n",
    "\n",
    "print(\"Copy operation completed.\")\n"
   ]
  }
 ],
 "metadata": {
  "kernelspec": {
   "display_name": "ArcGISPro",
   "language": "Python",
   "name": "python3"
  },
  "language_info": {
   "file_extension": ".py",
   "name": "python",
   "version": "3"
  }
 },
 "nbformat": 4,
 "nbformat_minor": 2
}
